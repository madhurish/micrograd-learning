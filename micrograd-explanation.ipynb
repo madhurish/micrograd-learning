{
 "cells": [
  {
   "cell_type": "code",
   "execution_count": 2,
   "id": "4dddbf80",
   "metadata": {},
   "outputs": [],
   "source": [
    "import numpy\n",
    "import matplotlib\n",
    "from matplotlib import pyplot"
   ]
  },
  {
   "cell_type": "code",
   "execution_count": 7,
   "id": "c8105b4e",
   "metadata": {},
   "outputs": [],
   "source": [
    "def f(x):\n",
    "    return 3*x**2+2*x+5"
   ]
  },
  {
   "cell_type": "code",
   "execution_count": 8,
   "id": "1cbf9db8",
   "metadata": {},
   "outputs": [],
   "source": [
    "xs=numpy.arange(-5,5,0.5)\n",
    "ys=f(xs)"
   ]
  },
  {
   "cell_type": "code",
   "execution_count": 11,
   "id": "c7263e6c",
   "metadata": {},
   "outputs": [
    {
     "data": {
      "text/plain": [
       "[<matplotlib.lines.Line2D at 0x1343b97d0>]"
      ]
     },
     "execution_count": 11,
     "metadata": {},
     "output_type": "execute_result"
    },
    {
     "data": {
      "image/png": "[encoded data removed]",
      "text/plain": [
       "<Figure size 640x480 with 1 Axes>"
      ]
     },
     "metadata": {},
     "output_type": "display_data"
    }
   ],
   "source": [
    "pyplot.plot(xs,ys)"
   ]
  },
  {
   "cell_type": "markdown",
   "id": "dd14e732",
   "metadata": {},
   "source": [
    "# Derivative of the function\n",
    "\n",
    "\n",
    "$L =  \\lim_{h \\to 0} \\frac{f(x+h)-f(x)}{h}$\n"
   ]
  },
  {
   "cell_type": "code",
   "execution_count": 14,
   "id": "4ed67dc8",
   "metadata": {},
   "outputs": [
    {
     "data": {
      "text/plain": [
       "20.000300000049265"
      ]
     },
     "execution_count": 14,
     "metadata": {},
     "output_type": "execute_result"
    }
   ],
   "source": [
    "h=0.0001\n",
    "x=3\n",
    "(f(x+h)-f(x))/h"
   ]
  },
  {
   "cell_type": "code",
   "execution_count": 54,
   "id": "4584728a",
   "metadata": {},
   "outputs": [],
   "source": [
    "class Value:\n",
    "    '''\n",
    "    Scalar value class\n",
    "    '''\n",
    "    def __init__(self,data,_children=(),_op='',label=''):\n",
    "        '''\n",
    "        data: is the floating point value stored in the object\n",
    "        _children: empty tuple, set of children\n",
    "        _op: series of operation performed\n",
    "        '''\n",
    "        self.data = data\n",
    "        self._prev=set(_children)\n",
    "        self._op=_op\n",
    "        self.label = label\n",
    "    def __repr__(self):\n",
    "        return f'Value (data {self.data})'\n",
    "    def __add__(self,other):\n",
    "        out = Value(self.data + other.data,(self,other),'+')\n",
    "        return out\n",
    "    def __mul__(self,other):\n",
    "        out = Value(self.data * other.data,(self,other),'*')\n",
    "        return out"
   ]
  },
  {
   "cell_type": "code",
   "execution_count": 69,
   "id": "9ba83050",
   "metadata": {},
   "outputs": [
    {
     "name": "stdout",
     "output_type": "stream",
     "text": [
      "Value (data 5.0)\n",
      "Value (data 6.0)\n",
      "Value (data 16.0)\n"
     ]
    }
   ],
   "source": [
    "a=Value(2.0,label='a')\n",
    "b=Value(3.0,label='b')\n",
    "c=Value(10.0,label='c')\n",
    "e=a*b;e.label='e'\n",
    "d=e+c\n",
    "d.label='d'\n",
    "f=Value(5.0,label='f')\n",
    "L=f*d\n",
    "print(a+b)\n",
    "print(a*b)\n",
    "print(d)"
   ]
  },
  {
   "cell_type": "code",
   "execution_count": 70,
   "id": "eb9f18d2",
   "metadata": {},
   "outputs": [
    {
     "name": "stdout",
     "output_type": "stream",
     "text": [
      "{Value (data 6.0), Value (data 10.0)}\n",
      "+\n"
     ]
    }
   ],
   "source": [
    "print(d._prev)\n",
    "print(d._op)"
   ]
  },
  {
   "cell_type": "markdown",
   "id": "fbfa1d39",
   "metadata": {},
   "source": [
    "# Graph Visualization"
   ]
  },
  {
   "cell_type": "code",
   "execution_count": 71,
   "id": "558f7293",
   "metadata": {},
   "outputs": [],
   "source": [
    "from graphviz import Digraph\n",
    "\n",
    "def trace(root):\n",
    "  # builds a set of all nodes and edges in a graph\n",
    "  nodes, edges = set(), set()\n",
    "  def build(v):\n",
    "    if v not in nodes:\n",
    "      nodes.add(v)\n",
    "      for child in v._prev:\n",
    "        edges.add((child, v))\n",
    "        build(child)\n",
    "  build(root)\n",
    "  return nodes, edges\n",
    "\n",
    "def draw_dot(root):\n",
    "  dot = Digraph(format='svg', graph_attr={'rankdir': 'LR'}) # LR = left to right\n",
    "  \n",
    "  nodes, edges = trace(root)\n",
    "  for n in nodes:\n",
    "    uid = str(id(n))\n",
    "    # for any value in the graph, create a rectangular ('record') node for it\n",
    "    dot.node(name = uid, label = \"{ %s | data %.4f }\" % (n.label, n.data), shape='record')\n",
    "    if n._op:\n",
    "      # if this value is a result of some operation, create an op node for it\n",
    "      dot.node(name = uid + n._op, label = n._op)\n",
    "      # and connect this node to it\n",
    "      dot.edge(uid + n._op, uid)\n",
    "\n",
    "  for n1, n2 in edges:\n",
    "    # connect n1 to the op node of n2\n",
    "    dot.edge(str(id(n1)), str(id(n2)) + n2._op)\n",
    "\n",
    "  return dot\n"
   ]
  },
  {
   "cell_type": "code",
   "execution_count": 73,
   "id": "d0a48973",
   "metadata": {},
   "outputs": [
    {
     "data": {
      "image/svg+xml": [
       "<?xml version=\"1.0\" encoding=\"UTF-8\" standalone=\"no\"?>\n",
       "<!DOCTYPE svg PUBLIC \"-//W3C//DTD SVG 1.1//EN\"\n",
       " \"http://www.w3.org/Graphics/SVG/1.1/DTD/svg11.dtd\">\n",
       "<!-- Generated by graphviz version 8.0.5 (20230430.1635)\n",
       " -->\n",
       "<!-- Pages: 1 -->\n",
       "<svg width=\"813pt\" height=\"154pt\"\n",
       " viewBox=\"0.00 0.00 812.50 154.00\" xmlns=\"http://www.w3.org/2000/svg\" xmlns:xlink=\"http://www.w3.org/1999/xlink\">\n",
       "<g id=\"graph0\" class=\"graph\" transform=\"scale(1 1) rotate(0) translate(4 150)\">\n",
       "<polygon fill=\"white\" stroke=\"none\" points=\"-4,4 -4,-150 808.5,-150 808.5,4 -4,4\"/>\n",
       "<!-- 5171948048 -->\n",
       "<g id=\"node1\" class=\"node\">\n",
       "<title>5171948048</title>\n",
       "<polygon fill=\"none\" stroke=\"black\" points=\"467.5,-109.5 467.5,-145.5 567.75,-145.5 567.75,-109.5 467.5,-109.5\"/>\n",
       "<text text-anchor=\"middle\" x=\"477.75\" y=\"-122.7\" font-family=\"Times,serif\" font-size=\"14.00\">f</text>\n",
       "<polyline fill=\"none\" stroke=\"black\" points=\"488,-110 488,-145.5\"/>\n",
       "<text text-anchor=\"middle\" x=\"527.88\" y=\"-122.7\" font-family=\"Times,serif\" font-size=\"14.00\">data 5.0000</text>\n",
       "</g>\n",
       "<!-- 5170279312* -->\n",
       "<g id=\"node8\" class=\"node\">\n",
       "<title>5170279312*</title>\n",
       "<ellipse fill=\"none\" stroke=\"black\" cx=\"635.25\" cy=\"-99.5\" rx=\"27\" ry=\"18\"/>\n",
       "<text text-anchor=\"middle\" x=\"635.25\" y=\"-94.45\" font-family=\"Times,serif\" font-size=\"14.00\">*</text>\n",
       "</g>\n",
       "<!-- 5171948048&#45;&gt;5170279312* -->\n",
       "<g id=\"edge6\" class=\"edge\">\n",
       "<title>5171948048&#45;&gt;5170279312*</title>\n",
       "<path fill=\"none\" stroke=\"black\" d=\"M567.66,-115.63C578.12,-113.09 588.98,-110.46 598.82,-108.08\"/>\n",
       "<polygon fill=\"black\" stroke=\"black\" points=\"599.52,-111.27 608.41,-105.51 597.87,-104.47 599.52,-111.27\"/>\n",
       "</g>\n",
       "<!-- 5271538704 -->\n",
       "<g id=\"node2\" class=\"node\">\n",
       "<title>5271538704</title>\n",
       "<polygon fill=\"none\" stroke=\"black\" points=\"228.5,-82.5 228.5,-118.5 337,-118.5 337,-82.5 228.5,-82.5\"/>\n",
       "<text text-anchor=\"middle\" x=\"239.5\" y=\"-95.7\" font-family=\"Times,serif\" font-size=\"14.00\">c</text>\n",
       "<polyline fill=\"none\" stroke=\"black\" points=\"250.5,-83 250.5,-118.5\"/>\n",
       "<text text-anchor=\"middle\" x=\"293.75\" y=\"-95.7\" font-family=\"Times,serif\" font-size=\"14.00\">data 10.0000</text>\n",
       "</g>\n",
       "<!-- 5271538640+ -->\n",
       "<g id=\"node10\" class=\"node\">\n",
       "<title>5271538640+</title>\n",
       "<ellipse fill=\"none\" stroke=\"black\" cx=\"400\" cy=\"-72.5\" rx=\"27\" ry=\"18\"/>\n",
       "<text text-anchor=\"middle\" x=\"400\" y=\"-67.45\" font-family=\"Times,serif\" font-size=\"14.00\">+</text>\n",
       "</g>\n",
       "<!-- 5271538704&#45;&gt;5271538640+ -->\n",
       "<g id=\"edge5\" class=\"edge\">\n",
       "<title>5271538704&#45;&gt;5271538640+</title>\n",
       "<path fill=\"none\" stroke=\"black\" d=\"M336.99,-87.57C346.01,-85.37 355.18,-83.15 363.6,-81.1\"/>\n",
       "<polygon fill=\"black\" stroke=\"black\" points=\"364.27,-84.3 373.16,-78.54 362.62,-77.5 364.27,-84.3\"/>\n",
       "</g>\n",
       "<!-- 5271538256 -->\n",
       "<g id=\"node3\" class=\"node\">\n",
       "<title>5271538256</title>\n",
       "<polygon fill=\"none\" stroke=\"black\" points=\"0.38,-55.5 0.38,-91.5 102.12,-91.5 102.12,-55.5 0.38,-55.5\"/>\n",
       "<text text-anchor=\"middle\" x=\"11.38\" y=\"-68.7\" font-family=\"Times,serif\" font-size=\"14.00\">a</text>\n",
       "<polyline fill=\"none\" stroke=\"black\" points=\"22.38,-56 22.38,-91.5\"/>\n",
       "<text text-anchor=\"middle\" x=\"62.25\" y=\"-68.7\" font-family=\"Times,serif\" font-size=\"14.00\">data 2.0000</text>\n",
       "</g>\n",
       "<!-- 5172529936* -->\n",
       "<g id=\"node5\" class=\"node\">\n",
       "<title>5172529936*</title>\n",
       "<ellipse fill=\"none\" stroke=\"black\" cx=\"165.5\" cy=\"-45.5\" rx=\"27\" ry=\"18\"/>\n",
       "<text text-anchor=\"middle\" x=\"165.5\" y=\"-40.45\" font-family=\"Times,serif\" font-size=\"14.00\">*</text>\n",
       "</g>\n",
       "<!-- 5271538256&#45;&gt;5172529936* -->\n",
       "<g id=\"edge8\" class=\"edge\">\n",
       "<title>5271538256&#45;&gt;5172529936*</title>\n",
       "<path fill=\"none\" stroke=\"black\" d=\"M101.81,-61.14C111.06,-58.83 120.55,-56.46 129.26,-54.29\"/>\n",
       "<polygon fill=\"black\" stroke=\"black\" points=\"129.94,-57.48 138.8,-51.66 128.25,-50.69 129.94,-57.48\"/>\n",
       "</g>\n",
       "<!-- 5172529936 -->\n",
       "<g id=\"node4\" class=\"node\">\n",
       "<title>5172529936</title>\n",
       "<polygon fill=\"none\" stroke=\"black\" points=\"231.88,-27.5 231.88,-63.5 333.62,-63.5 333.62,-27.5 231.88,-27.5\"/>\n",
       "<text text-anchor=\"middle\" x=\"242.88\" y=\"-40.7\" font-family=\"Times,serif\" font-size=\"14.00\">e</text>\n",
       "<polyline fill=\"none\" stroke=\"black\" points=\"253.88,-28 253.88,-63.5\"/>\n",
       "<text text-anchor=\"middle\" x=\"293.75\" y=\"-40.7\" font-family=\"Times,serif\" font-size=\"14.00\">data 6.0000</text>\n",
       "</g>\n",
       "<!-- 5172529936&#45;&gt;5271538640+ -->\n",
       "<g id=\"edge9\" class=\"edge\">\n",
       "<title>5172529936&#45;&gt;5271538640+</title>\n",
       "<path fill=\"none\" stroke=\"black\" d=\"M333.3,-57.11C343.38,-59.47 353.8,-61.91 363.29,-64.13\"/>\n",
       "<polygon fill=\"black\" stroke=\"black\" points=\"362.4,-67.75 372.93,-66.63 363.99,-60.94 362.4,-67.75\"/>\n",
       "</g>\n",
       "<!-- 5172529936*&#45;&gt;5172529936 -->\n",
       "<g id=\"edge1\" class=\"edge\">\n",
       "<title>5172529936*&#45;&gt;5172529936</title>\n",
       "<path fill=\"none\" stroke=\"black\" d=\"M192.94,-45.5C201.53,-45.5 211.44,-45.5 221.46,-45.5\"/>\n",
       "<polygon fill=\"black\" stroke=\"black\" points=\"221.32,-49 231.32,-45.5 221.32,-42 221.32,-49\"/>\n",
       "</g>\n",
       "<!-- 5271538960 -->\n",
       "<g id=\"node6\" class=\"node\">\n",
       "<title>5271538960</title>\n",
       "<polygon fill=\"none\" stroke=\"black\" points=\"0,-0.5 0,-36.5 102.5,-36.5 102.5,-0.5 0,-0.5\"/>\n",
       "<text text-anchor=\"middle\" x=\"11.38\" y=\"-13.7\" font-family=\"Times,serif\" font-size=\"14.00\">b</text>\n",
       "<polyline fill=\"none\" stroke=\"black\" points=\"22.75,-1 22.75,-36.5\"/>\n",
       "<text text-anchor=\"middle\" x=\"62.62\" y=\"-13.7\" font-family=\"Times,serif\" font-size=\"14.00\">data 3.0000</text>\n",
       "</g>\n",
       "<!-- 5271538960&#45;&gt;5172529936* -->\n",
       "<g id=\"edge7\" class=\"edge\">\n",
       "<title>5271538960&#45;&gt;5172529936*</title>\n",
       "<path fill=\"none\" stroke=\"black\" d=\"M102.47,-30.58C111.39,-32.73 120.53,-34.92 128.94,-36.95\"/>\n",
       "<polygon fill=\"black\" stroke=\"black\" points=\"127.97,-40.55 138.51,-39.49 129.61,-33.75 127.97,-40.55\"/>\n",
       "</g>\n",
       "<!-- 5170279312 -->\n",
       "<g id=\"node7\" class=\"node\">\n",
       "<title>5170279312</title>\n",
       "<polygon fill=\"none\" stroke=\"black\" points=\"698.25,-81.5 698.25,-117.5 804.5,-117.5 804.5,-81.5 698.25,-81.5\"/>\n",
       "<text text-anchor=\"middle\" x=\"708.12\" y=\"-94.7\" font-family=\"Times,serif\" font-size=\"14.00\"> </text>\n",
       "<polyline fill=\"none\" stroke=\"black\" points=\"718,-82 718,-117.5\"/>\n",
       "<text text-anchor=\"middle\" x=\"761.25\" y=\"-94.7\" font-family=\"Times,serif\" font-size=\"14.00\">data 80.0000</text>\n",
       "</g>\n",
       "<!-- 5170279312*&#45;&gt;5170279312 -->\n",
       "<g id=\"edge2\" class=\"edge\">\n",
       "<title>5170279312*&#45;&gt;5170279312</title>\n",
       "<path fill=\"none\" stroke=\"black\" d=\"M662.72,-99.5C670.3,-99.5 678.91,-99.5 687.7,-99.5\"/>\n",
       "<polygon fill=\"black\" stroke=\"black\" points=\"687.45,-103 697.45,-99.5 687.45,-96 687.45,-103\"/>\n",
       "</g>\n",
       "<!-- 5271538640 -->\n",
       "<g id=\"node9\" class=\"node\">\n",
       "<title>5271538640</title>\n",
       "<polygon fill=\"none\" stroke=\"black\" points=\"463,-54.5 463,-90.5 572.25,-90.5 572.25,-54.5 463,-54.5\"/>\n",
       "<text text-anchor=\"middle\" x=\"474.38\" y=\"-67.7\" font-family=\"Times,serif\" font-size=\"14.00\">d</text>\n",
       "<polyline fill=\"none\" stroke=\"black\" points=\"485.75,-55 485.75,-90.5\"/>\n",
       "<text text-anchor=\"middle\" x=\"529\" y=\"-67.7\" font-family=\"Times,serif\" font-size=\"14.00\">data 16.0000</text>\n",
       "</g>\n",
       "<!-- 5271538640&#45;&gt;5170279312* -->\n",
       "<g id=\"edge4\" class=\"edge\">\n",
       "<title>5271538640&#45;&gt;5170279312*</title>\n",
       "<path fill=\"none\" stroke=\"black\" d=\"M572.04,-84.97C581.09,-87.09 590.29,-89.23 598.73,-91.21\"/>\n",
       "<polygon fill=\"black\" stroke=\"black\" points=\"597.79,-94.81 608.33,-93.68 599.39,-88 597.79,-94.81\"/>\n",
       "</g>\n",
       "<!-- 5271538640+&#45;&gt;5271538640 -->\n",
       "<g id=\"edge3\" class=\"edge\">\n",
       "<title>5271538640+&#45;&gt;5271538640</title>\n",
       "<path fill=\"none\" stroke=\"black\" d=\"M427.24,-72.5C434.82,-72.5 443.44,-72.5 452.27,-72.5\"/>\n",
       "<polygon fill=\"black\" stroke=\"black\" points=\"452.09,-76 462.09,-72.5 452.09,-69 452.09,-76\"/>\n",
       "</g>\n",
       "</g>\n",
       "</svg>\n"
      ],
      "text/plain": [
       "<graphviz.graphs.Digraph at 0x134e14390>"
      ]
     },
     "execution_count": 73,
     "metadata": {},
     "output_type": "execute_result"
    }
   ],
   "source": [
    "draw_dot(L)"
   ]
  },
  {
   "cell_type": "code",
   "execution_count": null,
   "id": "e99e0097",
   "metadata": {},
   "outputs": [],
   "source": []
  }
 ],
 "metadata": {
  "kernelspec": {
   "display_name": "Python 3 (ipykernel)",
   "language": "python",
   "name": "python3"
  },
  "language_info": {
   "codemirror_mode": {
    "name": "ipython",
    "version": 3
   },
   "file_extension": ".py",
   "mimetype": "text/x-python",
   "name": "python",
   "nbconvert_exporter": "python",
   "pygments_lexer": "ipython3",
   "version": "3.11.3"
  }
 },
 "nbformat": 4,
 "nbformat_minor": 5
}
